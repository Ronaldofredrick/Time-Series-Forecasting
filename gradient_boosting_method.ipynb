{
 "cells": [
  {
   "cell_type": "markdown",
   "metadata": {},
   "source": [
    "# Forecasting time series with gradient boosting: Skforecast, XGBoost, LightGBM, Scikit-learn y CatBoost"
   ]
  },
  {
   "cell_type": "markdown",
   "metadata": {},
   "source": [
    "Gradient boosting models have gained popularity in the machine learning community due to their ability to achieve excellent results in a wide range of use cases, including both regression and classification. Although these models have traditionally been less common in forecasting, recent research has shown that they can be highly effective in this domain. Some of the key benefits of using gradient boosting models for forecasting include:\n",
    "\n",
    "1. The ease with which exogenous variables can be included in the model, in addition to autoregressive variables.\n",
    "\n",
    "2. The ability to capture non-linear relationships between variables.\n",
    "\n",
    "3. High scalability, allowing models to handle large volumes of data.\n",
    "\n",
    "4. Some implementations allow the inclusion of categorical variables without the need for one-hot coding.\n",
    "\n",
    "Despite these benefits, the use of machine learning models for forecasting can present several challenges that can make analysts reluctant to use them, the main ones being\n",
    "\n",
    "1. Transforming the data so that it can be used as a regression problem.\n",
    "\n",
    "2. Depending on how many future predictions are needed (prediction horizon), an iterative process may be required where each new prediction is based on previous ones.\n",
    "\n",
    "3. Model validation requires specific strategies such as backtesting, walk-forward validation or time series cross-validation. Traditional cross-validation cannot be used.\n",
    "\n",
    "The skforecast library provides automated solutions to these challenges, making it easier to apply and validate machine learning models to forecasting problems. The library supports several advanced gradient boosting models, including XGBoost, LightGBM, Catboost and scikit-learn HistGradientBoostingRegressor. This document shows how to use them to build accurate forecasting models."
   ]
  },
  {
   "cell_type": "markdown",
   "metadata": {},
   "source": [
    "![Alt text][def]\n",
    "\n",
    "[def]: image.png"
   ]
  },
  {
   "cell_type": "code",
   "execution_count": null,
   "metadata": {},
   "outputs": [],
   "source": [
    "# Data processing\n",
    "# ==============================================================================\n",
    "import numpy as np\n",
    "import pandas as pd\n",
    "\n",
    "# Plots\n",
    "# ==============================================================================\n",
    "import matplotlib.pyplot as plt\n",
    "from statsmodels.graphics.tsaplots import plot_acf\n",
    "from statsmodels.graphics.tsaplots import plot_pacf\n",
    "import plotly.graph_objects as go\n",
    "import plotly.express as px\n",
    "import plotly.io as pio\n",
    "pio.templates.default = \"seaborn\"\n",
    "plt.style.use('seaborn-v0_8-darkgrid')\n",
    "\n",
    "# Modelling and Forecasting\n",
    "# ==============================================================================\n",
    "from xgboost import XGBRegressor\n",
    "from lightgbm import LGBMRegressor\n",
    "from catboost import CatBoostRegressor\n",
    "from sklearn.ensemble import HistGradientBoostingRegressor\n",
    "\n",
    "from sklearn.preprocessing import OneHotEncoder\n",
    "from sklearn.preprocessing import OrdinalEncoder\n",
    "from sklearn.preprocessing import FunctionTransformer\n",
    "from sklearn.pipeline import make_pipeline\n",
    "from sklearn.compose import make_column_transformer\n",
    "from sklearn.compose import make_column_selector\n",
    "\n",
    "from skforecast.ForecasterAutoreg import ForecasterAutoreg\n",
    "from skforecast.model_selection import grid_search_forecaster\n",
    "from skforecast.model_selection import backtesting_forecaster\n",
    "\n",
    "# Configuration warnings\n",
    "# ==============================================================================\n",
    "import warnings\n",
    "warnings.filterwarnings(\"ignore\")"
   ]
  },
  {
   "cell_type": "markdown",
   "metadata": {},
   "source": [
    "The data in this document represent the hourly usage of the bike share system in the city of Washington, D.C. during the years 2011 and 2012. In addition to the number of users per hour, information about weather conditions and holidays is available."
   ]
  },
  {
   "cell_type": "code",
   "execution_count": null,
   "metadata": {},
   "outputs": [],
   "source": [
    "# Downloading data\n",
    "# ==============================================================================\n",
    "url = ('https://raw.githubusercontent.com/JoaquinAmatRodrigo/Estadistica-machine-'\n",
    "       'learning-python/master/data/bike_sharing_dataset_clean.csv')\n",
    "data = pd.read_csv(url)\n",
    "data['date_time'] = pd.to_datetime(data['date_time'], format='%Y-%m-%d %H:%M:%S')\n",
    "data = data.set_index('date_time')\n",
    "data = data.asfreq('H')\n",
    "data = data.sort_index()\n",
    "data = data.drop(columns=['workingday'])\n",
    "data.head()"
   ]
  },
  {
   "cell_type": "code",
   "execution_count": null,
   "metadata": {},
   "outputs": [],
   "source": [
    "# Split train-validation-test\n",
    "# ==============================================================================\n",
    "end_train = '2012-03-31 23:59:00'\n",
    "end_validation = '2012-08-31 23:59:00'\n",
    "data_train = data.loc[: end_train, :]\n",
    "data_val   = data.loc[end_train:end_validation, :]\n",
    "data_test  = data.loc[end_validation:, :]\n",
    "\n",
    "print(f\"Dates train      : {data_train.index.min()} --- {data_train.index.max()}  (n={len(data_train)})\")\n",
    "print(f\"Dates validacion : {data_val.index.min()} --- {data_val.index.max()}  (n={len(data_val)})\")\n",
    "print(f\"Dates test       : {data_test.index.min()} --- {data_test.index.max()}  (n={len(data_test)})\")"
   ]
  },
  {
   "cell_type": "markdown",
   "metadata": {},
   "source": [
    "# EDA"
   ]
  },
  {
   "cell_type": "code",
   "execution_count": null,
   "metadata": {},
   "outputs": [],
   "source": [
    "# Plot time series with zoom\n",
    "# ==============================================================================\n",
    "zoom = ('2011-08-01 00:00:00','2011-08-15 00:00:00')\n",
    "\n",
    "fig = plt.figure(figsize=(8, 4))\n",
    "grid = plt.GridSpec(nrows=8, ncols=1, hspace=0.1, wspace=0)\n",
    "\n",
    "main_ax = fig.add_subplot(grid[1:3, :])\n",
    "zoom_ax = fig.add_subplot(grid[5:, :])\n",
    "\n",
    "data_train['users'].plot(ax=main_ax, label='train', alpha=0.5)\n",
    "data_val['users'].plot(ax=main_ax, label='validation', alpha=0.5)\n",
    "data_test['users'].plot(ax=main_ax, label='test', alpha=0.5)\n",
    "min_y = min(data['users'])\n",
    "max_y = max(data['users'])\n",
    "main_ax.fill_between(zoom, min_y, max_y, facecolor='blue', alpha=0.5, zorder=0)\n",
    "main_ax.set_xlabel('')\n",
    "main_ax.legend(loc='lower center', ncol=3, bbox_to_anchor=(0.5, -0.8))\n",
    "data.loc[zoom[0]: zoom[1]]['users'].plot(ax=zoom_ax, color='blue', linewidth=1)\n",
    "main_ax.set_title(f'Number of users: {data.index.min()}, {data.index.max()}', fontsize=10)\n",
    "zoom_ax.set_title(f'Number of users: {zoom}', fontsize=10)\n",
    "zoom_ax.set_xlabel('')\n",
    "plt.subplots_adjust(hspace=1)"
   ]
  },
  {
   "cell_type": "code",
   "execution_count": null,
   "metadata": {},
   "outputs": [],
   "source": [
    "# Interactive plot of time series\n",
    "# ==============================================================================\n",
    "data.loc[:end_train, 'partition'] = 'train'\n",
    "data.loc[end_train:end_validation, 'partition'] = 'validation'\n",
    "data.loc[end_validation:, 'partition'] = 'test'\n",
    "\n",
    "fig = px.line(\n",
    "    data_frame = data.reset_index(),\n",
    "    x      = 'date_time',\n",
    "    y      = 'users',\n",
    "    color  = 'partition',\n",
    "    title  = 'Number of users',\n",
    "    width  = 800,\n",
    "    height = 450\n",
    ")\n",
    "fig.update_layout(\n",
    "    width  = 800,\n",
    "    height = 400,\n",
    "    margin=dict(l=20, r=20, t=35, b=20),\n",
    "    legend=dict(\n",
    "        orientation=\"h\",\n",
    "        yanchor=\"top\",\n",
    "        y=1,\n",
    "        xanchor=\"left\",\n",
    "        x=0.001\n",
    "    )\n",
    ")\n",
    "fig.update_xaxes(rangeslider_visible=True)\n",
    "fig.show()\n",
    "data=data.drop(columns='partition')"
   ]
  },
  {
   "cell_type": "code",
   "execution_count": null,
   "metadata": {},
   "outputs": [],
   "source": [
    "# Daily seasonality - seasonality plot\n",
    "# ==============================================================================\n",
    "fig, ax = plt.subplots(figsize=(8, 2))\n",
    "mean_day_hour = data.groupby([\"weekday\", \"hour\"])[\"users\"].mean()\n",
    "mean_day_hour.plot(ax=ax)\n",
    "ax.set(\n",
    "    title=\"Mean users during week\",\n",
    "    xticks=[i * 24 for i in range(7)],\n",
    "    xticklabels=[\"Mon\", \"Tue\", \"Wed\", \"Thu\", \"Fri\", \"Sat\", \"Sun\"],\n",
    "    xlabel=\"Day and hour\",\n",
    "    ylabel=\"Number of users\"\n",
    ");"
   ]
  },
  {
   "cell_type": "markdown",
   "metadata": {},
   "source": [
    "There is a clear difference between weekdays and weekends. There is also a clear intra-day pattern, with different influx of users depending on the time of day."
   ]
  },
  {
   "cell_type": "markdown",
   "metadata": {},
   "source": [
    "# Autocorrelation plots\n",
    "Autocorrelation plots can help identify patterns in your time series data. If the autocorrelation plot shows a high autocorrelation at a particular lag, it indicates that there is a strong relationship between observations at that lag, and therefore that lag may be a useful predictor."
   ]
  },
  {
   "cell_type": "code",
   "execution_count": null,
   "metadata": {},
   "outputs": [],
   "source": [
    "# Autocorrelation plot\n",
    "# ==============================================================================\n",
    "fig, ax = plt.subplots(figsize=(5, 2))\n",
    "plot_acf(data['users'], ax=ax, lags=72)\n",
    "plt.show()"
   ]
  },
  {
   "cell_type": "code",
   "execution_count": null,
   "metadata": {},
   "outputs": [],
   "source": [
    "# Partial autocorrelation plot\n",
    "# ==============================================================================\n",
    "fig, ax = plt.subplots(figsize=(5, 2))\n",
    "plot_pacf(data['users'], ax=ax, lags=72, method='ywm')\n",
    "plt.show()"
   ]
  },
  {
   "cell_type": "markdown",
   "metadata": {},
   "source": [
    "The results of the autocorrelation study show that there is a significant correlation between the number of users in previous hours, as well as the days before, and the number of users in the future. This means that knowing the number of users during certain periods in the past could be valuable in predicting the number of users in the future."
   ]
  },
  {
   "cell_type": "markdown",
   "metadata": {},
   "source": [
    "# XGBOOST\n",
    "\n",
    "XGBoost is a highly efficient implementation of the stochastic gradient boosting algorithm, which has become a benchmark in the field of machine learning. The XGBoost library includes its own API as well as the XGBRegressor class, which follows the scikit-learn API, making it compatible with skforecast.\n",
    "\n",
    "First, an autoregressive model is trained using past values (lags) of the response variable as predictors. Later, exogenous variables are added to the model and the improvement in its performance is assessed."
   ]
  },
  {
   "cell_type": "code",
   "execution_count": null,
   "metadata": {},
   "outputs": [],
   "source": [
    "# Create forecaster\n",
    "# ==============================================================================\n",
    "forecaster = ForecasterAutoreg(\n",
    "                 regressor = XGBRegressor(random_state=123),\n",
    "                 lags = 24\n",
    "             )"
   ]
  },
  {
   "cell_type": "code",
   "execution_count": null,
   "metadata": {},
   "outputs": [],
   "source": [
    "#HYPERPARAMETER TUNING\n",
    "\n",
    "# Grid search of hyperparameters and lags\n",
    "# ==============================================================================\n",
    "# Regressor hyperparameters\n",
    "param_grid = {\n",
    "    'n_estimators': [100, 500],\n",
    "    'max_depth': [3, 5, 10],\n",
    "    'learning_rate': [0.01, 0.1]\n",
    "}\n",
    "\n",
    "# Lags used as predictors\n",
    "lags_grid = [48, 72]\n",
    "\n",
    "results_grid = grid_search_forecaster(\n",
    "                   forecaster         = forecaster,\n",
    "                   y                  = data.loc[:end_validation, 'users'], # Train and validation data\n",
    "                   param_grid         = param_grid,\n",
    "                   lags_grid          = lags_grid,\n",
    "                   steps              = 36,\n",
    "                   refit              = False,\n",
    "                   metric             = 'mean_squared_error',\n",
    "                   initial_train_size = len(data_train), # Model is trained with training data\n",
    "                   fixed_train_size   = False,\n",
    "                   return_best        = True,\n",
    "                   n_jobs             = 'auto',\n",
    "                   verbose            = False\n",
    "               )"
   ]
  },
  {
   "cell_type": "code",
   "execution_count": null,
   "metadata": {},
   "outputs": [],
   "source": [
    "# Results of grid search\n",
    "# ==============================================================================\n",
    "results_grid.head()"
   ]
  },
  {
   "cell_type": "markdown",
   "metadata": {},
   "source": [
    "Since return_best = True, the forecaster object will be updated with the best configuration found and trained on the entire dataset. This means that the final model obtained from the grid search will have the best combination of lags and hyperparameters that resulted in the highest performance metric. This final model can then be used for future predictions on new data."
   ]
  },
  {
   "cell_type": "markdown",
   "metadata": {},
   "source": [
    "# Backtesting test period"
   ]
  },
  {
   "cell_type": "markdown",
   "metadata": {},
   "source": [
    "Once the best combination of hyperparameters has been identified using the validation data, the predictive capacity of the model is evaluated when applied to the test set. The backtesting_forecaster function is used to simulate the prediction process every 36 hours.\n",
    "\n",
    "It is recommended to review the documentation for the backtesting_forecaster function to gain a better understanding of its capabilities. This will help to utilize its full potential to analyze the predictive capacity of the model."
   ]
  },
  {
   "cell_type": "code",
   "execution_count": null,
   "metadata": {},
   "outputs": [],
   "source": [
    "# Backtesting on test data\n",
    "# ==============================================================================\n",
    "metric, predictions = backtesting_forecaster(\n",
    "                            forecaster         = forecaster,\n",
    "                            y                  = data['users'],\n",
    "                            initial_train_size = len(data.loc[:end_validation]),\n",
    "                            fixed_train_size   = False,\n",
    "                            steps              = 36,\n",
    "                            refit              = False,\n",
    "                            metric             = 'mean_squared_error',\n",
    "                            n_jobs             = 'auto',\n",
    "                            verbose            = False # Change to True to see detailed information\n",
    "                      )        \n",
    "\n",
    "print(f\"Backtest error: {metric:.2f}\")\n",
    "predictions.head()"
   ]
  },
  {
   "cell_type": "code",
   "execution_count": null,
   "metadata": {},
   "outputs": [],
   "source": [
    "# Plot predictions vs real value\n",
    "# ======================================================================================\n",
    "import plotly.graph_objs as go\n",
    "\n",
    "\n",
    "fig = go.Figure()\n",
    "trace1 = go.Scatter(x=data_test.index, y=data_test['users'], name=\"test\", mode=\"lines\")\n",
    "trace2 = go.Scatter(x=predictions.index, y=predictions['pred'], name=\"prediction\", mode=\"lines\")\n",
    "fig.add_trace(trace1)\n",
    "fig.add_trace(trace2)\n",
    "fig.update_layout(\n",
    "    title=\"Real value vs predicted in test data\",\n",
    "    xaxis_title=\"Date time\",\n",
    "    yaxis_title=\"Users\",\n",
    "    width  = 800,\n",
    "    height = 400,\n",
    "    margin=dict(l=20, r=20, t=35, b=20),\n",
    "    legend=dict(\n",
    "        orientation=\"h\",\n",
    "        yanchor=\"top\",\n",
    "        y=1.1,\n",
    "        xanchor=\"left\",\n",
    "        x=0.001\n",
    "    )\n",
    ")\n",
    "fig.show()"
   ]
  },
  {
   "cell_type": "markdown",
   "metadata": {},
   "source": [
    "## Continuous features with a cyclical pattern ##\n",
    "Continuous features that have a cyclic pattern, such as hours, can be handled in several ways, each with its advantages and disadvantages.\n",
    "\n",
    "One approach is to use the features directly as numeric values without any transformation. This method avoids generating numerous new features but may impose an incorrect linear order on the values. For example, hour 23 of one day and hour 00 of the next are very far apart when in fact there is only one hour difference between them.\n",
    "\n",
    "Another possibility is to treat cyclical features as categorical variables to avoid imposing a linear order. However, this approach may result in the loss of the cyclical information inherent in the variable.\n",
    "\n",
    "There is a third way of dealing with cyclical features that is often preferred to the other two methods. This involves transforming the features using the sine and cosine of their period. This approach generates only two new features that capture the cyclicality of the data in a more accurately than the previous two methods because it preserves the natural order of the feature and avoids imposing a linear order."
   ]
  },
  {
   "cell_type": "code",
   "execution_count": null,
   "metadata": {},
   "outputs": [],
   "source": [
    "# Transformation sine-cosine of variable hour\n",
    "# ==============================================================================\n",
    "data['hour_sin'] = np.sin(data['hour'] / 23 * 2 * np.pi)\n",
    "data['hour_cos'] = np.cos(data['hour'] / 23 * 2 * np.pi)\n",
    "\n",
    "# Plot of the transformation\n",
    "# ==============================================================================\n",
    "fig, ax = plt.subplots(figsize=(3.5, 3))\n",
    "sp = ax.scatter(\n",
    "        data[\"hour_sin\"],\n",
    "        data[\"hour_cos\"],\n",
    "        c=data[\"hour\"],\n",
    "        cmap='viridis'\n",
    "     )\n",
    "ax.set(\n",
    "    xlabel=\"sin(hour)\",\n",
    "    ylabel=\"cos(hour)\",\n",
    ")\n",
    "_ = fig.colorbar(sp)\n",
    "data = data.drop(columns='hour')"
   ]
  },
  {
   "cell_type": "markdown",
   "metadata": {},
   "source": [
    "## Categorical features\n",
    "\n",
    "Although the variables 'month', 'weekday', 'weather' and 'holiday' are stored as numeric values, they are actually categorical variables. Therefore, it is important to convert their data type to categorical to prevent the model from interpreting them as numeric features. This will help ensure that the model is able to accurately capture the unique characteristics and patterns of these variables."
   ]
  },
  {
   "cell_type": "code",
   "execution_count": null,
   "metadata": {},
   "outputs": [],
   "source": [
    "# Store categorical variables as category type\n",
    "# ==============================================================================\n",
    "data[\"holiday\"] = data[\"holiday\"].astype(\"category\")\n",
    "data[\"weather\"] = data[\"weather\"].astype(\"category\")\n",
    "data[\"month\"]   = data[\"month\"].astype(\"category\")\n",
    "data[\"weekday\"] = data[\"weekday\"].astype(\"category\")"
   ]
  },
  {
   "cell_type": "markdown",
   "metadata": {},
   "source": [
    "There are several approaches to incorporating categorical variables into XGBoost (and other gradient boosting frameworks):\n",
    "\n",
    "One option is to transform the data by converting categorical values to numerical values using methods such as one-hot encoding or ordinal encoding. This approach is applicable to all machine learning models.\n",
    "\n",
    "Alternatively, XGBoost can handle categorical variables internally without the need for preprocessing. This can be done automatically by setting the parameter enable_categorical='auto' and encoding the variables as the category datatype within a Pandas DataFrame. Alternatively, users can specify the category type of each feature using the feature_dtype parameter."
   ]
  },
  {
   "cell_type": "markdown",
   "metadata": {},
   "source": [
    "## One hot encoding\n",
    "\n",
    "ColumnTransformers in scikit-learn provide a powerful way to define transformations and apply them to specific features. By encapsulating the transformations in a ColumnTransformer object, it can be passed to a forecaster using the transformer_exog argument."
   ]
  },
  {
   "cell_type": "code",
   "execution_count": null,
   "metadata": {},
   "outputs": [],
   "source": [
    "# One hot encoding transformer\n",
    "# ==============================================================================\n",
    "one_hot_encoder = make_column_transformer(\n",
    "                      (\n",
    "                          OneHotEncoder(sparse_output=False, drop='if_binary'),\n",
    "                          make_column_selector(dtype_exclude=np.number),\n",
    "                      ),\n",
    "                      remainder=\"passthrough\",\n",
    "                      verbose_feature_names_out=False,\n",
    "                  ).set_output(transform=\"pandas\")"
   ]
  },
  {
   "cell_type": "code",
   "execution_count": null,
   "metadata": {},
   "outputs": [],
   "source": [
    "# Create forecaster with a transformer for exogenous features\n",
    "# ==============================================================================\n",
    "forecaster = ForecasterAutoreg(\n",
    "                 regressor        = XGBRegressor(random_state=123),\n",
    "                 lags             = 24,\n",
    "                 transformer_exog = one_hot_encoder\n",
    "             )"
   ]
  },
  {
   "cell_type": "code",
   "execution_count": null,
   "metadata": {},
   "outputs": [],
   "source": [
    "# View Training Matrix\n",
    "# ==============================================================================\n",
    "exog_features = ['weather', 'month', 'weekday', 'hour_sin', 'hour_cos', 'holiday',\n",
    "                 'temp', 'atemp', 'hum', 'windspeed']\n",
    "                 \n",
    "X_train, y_train = forecaster.create_train_X_y(\n",
    "                        y = data.loc[:end_validation, 'users'],\n",
    "                        exog = data.loc[:end_validation, exog_features]\n",
    "                   )\n",
    "X_train.head(3)"
   ]
  },
  {
   "cell_type": "code",
   "execution_count": null,
   "metadata": {},
   "outputs": [],
   "source": [
    "# Grid search of hyperparameters and lags\n",
    "# ==============================================================================\n",
    "# Regressor hyperparameters\n",
    "param_grid = {\n",
    "    'n_estimators': [100, 500],\n",
    "    'max_depth': [3, 5, 10],\n",
    "    'learning_rate': [0.01, 0.1]\n",
    "}\n",
    "\n",
    "# Lags used as predictors\n",
    "lags_grid = [48, 72]\n",
    "\n",
    "results_grid = grid_search_forecaster(\n",
    "                   forecaster         = forecaster,\n",
    "                   y                  = data.loc[:end_validation, 'users'],\n",
    "                   exog               = data.loc[:end_validation, exog_features],\n",
    "                   param_grid         = param_grid,\n",
    "                   lags_grid          = lags_grid,\n",
    "                   steps              = 36,\n",
    "                   refit              = False,\n",
    "                   metric             = 'mean_squared_error',\n",
    "                   initial_train_size = len(data.loc[:end_train]),\n",
    "                   fixed_train_size   = False,\n",
    "                   return_best        = True,\n",
    "                   n_jobs             = 'auto',\n",
    "                   verbose            = False\n",
    "               )"
   ]
  },
  {
   "cell_type": "code",
   "execution_count": null,
   "metadata": {},
   "outputs": [],
   "source": [
    "# Backtesting test data\n",
    "# ==============================================================================\n",
    "metric, predictions = backtesting_forecaster(\n",
    "                          forecaster         = forecaster,\n",
    "                          y                  = data['users'],\n",
    "                          exog               = data[exog_features],\n",
    "                          initial_train_size = len(data.loc[:end_validation]),\n",
    "                          fixed_train_size   = False,\n",
    "                          steps              = 36,\n",
    "                          refit              = False,\n",
    "                          metric             = 'mean_squared_error',\n",
    "                          n_jobs             = 'auto',\n",
    "                          verbose            = False\n",
    "                      )\n"
   ]
  },
  {
   "cell_type": "markdown",
   "metadata": {},
   "source": [
    "### Feature importances\n",
    "An advantage of avoiding one-hot encoding is that it avoids increasing the number of features, which makes interpretation easier. This can lead to simpler analysis and better understanding of the data as there are fewer variables to consider."
   ]
  },
  {
   "cell_type": "code",
   "execution_count": null,
   "metadata": {},
   "outputs": [],
   "source": [
    "# Extract feature importances\n",
    "# ==============================================================================\n",
    "importance = forecaster.get_feature_importances()\n",
    "importance"
   ]
  },
  {
   "cell_type": "markdown",
   "metadata": {},
   "source": [
    "### LightGBM, CatBoost and HistGradientBoostingRegressor\n",
    "Since the success of XGBoost as a machine learning algorithm, new implementations have been developed that also achieve excellent results, three of them are:\n",
    "\n",
    "LightGBM: developed by Microsoft.\n",
    "\n",
    "HistGradientBoostingRegressor: developed by scikit-learn.\n",
    "\n",
    "CatBoost: developed by Yandex."
   ]
  },
  {
   "cell_type": "code",
   "execution_count": null,
   "metadata": {},
   "outputs": [],
   "source": [
    "# LightGBM\n",
    "# Transformer: Ordinal encoding + cast to category type\n",
    "# ==============================================================================\n",
    "pipeline_categorical = make_pipeline(\n",
    "                           OrdinalEncoder(\n",
    "                               dtype=int,\n",
    "                               handle_unknown=\"use_encoded_value\",\n",
    "                               unknown_value=-1,\n",
    "                               encoded_missing_value=-1\n",
    "                           ),\n",
    "                           FunctionTransformer(\n",
    "                               func=lambda x: x.astype('category'),\n",
    "                               feature_names_out= 'one-to-one'\n",
    "                           )\n",
    "                       )\n",
    "\n",
    "transformer_exog = make_column_transformer(\n",
    "                       (\n",
    "                           pipeline_categorical,\n",
    "                           make_column_selector(dtype_exclude=np.number)\n",
    "                       ),\n",
    "                       remainder=\"passthrough\",\n",
    "                       verbose_feature_names_out=False,\n",
    "                   ).set_output(transform=\"pandas\")"
   ]
  },
  {
   "cell_type": "code",
   "execution_count": null,
   "metadata": {},
   "outputs": [],
   "source": [
    "# Create forecaster\n",
    "# ==============================================================================\n",
    "forecaster = ForecasterAutoreg(\n",
    "                regressor = LGBMRegressor(categorical_features='auto', random_state=123),\n",
    "                lags = 24,\n",
    "                transformer_exog = transformer_exog\n",
    "             )\n",
    "\n",
    "forecaster"
   ]
  },
  {
   "cell_type": "code",
   "execution_count": null,
   "metadata": {},
   "outputs": [],
   "source": [
    "# Grid search of hyperparameters and lags\n",
    "# ==============================================================================\n",
    "warnings.filterwarnings('ignore')\n",
    "# Regressor hyperparameters\n",
    "param_grid = {\n",
    "    'n_estimators': [100, 500],\n",
    "    'max_depth': [3, 5, 10],\n",
    "    'learning_rate': [0.01, 0.1]\n",
    "}\n",
    "\n",
    "# Lags used as predictors\n",
    "lags_grid = [48, 72]\n",
    "\n",
    "results_grid = grid_search_forecaster(\n",
    "                   forecaster         = forecaster,\n",
    "                   y                  = data.loc[:end_validation, 'users'],\n",
    "                   exog               = data.loc[:end_validation, exog_features],\n",
    "                   param_grid         = param_grid,\n",
    "                   lags_grid          = lags_grid,\n",
    "                   steps              = 36,\n",
    "                   refit              = False,\n",
    "                   metric             = 'mean_squared_error',\n",
    "                   initial_train_size = len(data.loc[:end_train]),\n",
    "                   fixed_train_size   = False,\n",
    "                   return_best        = True,\n",
    "                   n_jobs             = 'auto',\n",
    "                   verbose            = False\n",
    "               )\n",
    "warnings.resetwarnings()"
   ]
  },
  {
   "cell_type": "code",
   "execution_count": null,
   "metadata": {},
   "outputs": [],
   "source": [
    "# Backtesting test data\n",
    "# ==============================================================================\n",
    "metric, predictions = backtesting_forecaster(\n",
    "                          forecaster         = forecaster,\n",
    "                          y                  = data['users'],\n",
    "                          exog               = data[exog_features],\n",
    "                          initial_train_size = len(data.loc[:end_validation]),\n",
    "                          fixed_train_size   = False,\n",
    "                          steps              = 36,\n",
    "                          refit              = False,\n",
    "                          metric             = 'mean_squared_error',\n",
    "                          n_jobs             = 'auto',\n",
    "                          verbose            = False\n",
    "                      )\n",
    "\n",
    "print(f\"Backtest error: {metric:.2f}\")"
   ]
  },
  {
   "cell_type": "markdown",
   "metadata": {},
   "source": [
    "### HistGradientBoostingRegressor\n",
    "When creating a forecaster using HistogramGradientBoosting, the names of the categorical columns should be specified during the instantiation of the regressor by passing them as a list to the categorical_feature argument."
   ]
  },
  {
   "cell_type": "code",
   "execution_count": null,
   "metadata": {},
   "outputs": [],
   "source": [
    "# Transformer: ordinal encoding\n",
    "# ==============================================================================\n",
    "# A ColumnTransformer is used to transform categorical features (no numerical)\n",
    "# using ordinal encoding. Numerical features are left untouched. Missing values\n",
    "# are encoded as -1. If a new category is found in the test set, it is encoded\n",
    "# as -1.\n",
    "categorical_features = data.select_dtypes(exclude=[np.number]).columns.tolist()\n",
    "transformer_exog = make_column_transformer(\n",
    "                       (\n",
    "                           OrdinalEncoder(\n",
    "                               dtype=int,\n",
    "                               handle_unknown=\"use_encoded_value\",\n",
    "                               unknown_value=-1,\n",
    "                               encoded_missing_value=-1\n",
    "                           ),\n",
    "                           categorical_features\n",
    "                       ),\n",
    "                       remainder=\"passthrough\",\n",
    "                       verbose_feature_names_out=False,\n",
    "                   ).set_output(transform=\"pandas\")"
   ]
  },
  {
   "cell_type": "code",
   "execution_count": null,
   "metadata": {},
   "outputs": [],
   "source": [
    "# Create forecaster\n",
    "# ==============================================================================\n",
    "categorical_features = data.select_dtypes(exclude=np.number).columns.to_list()\n",
    "\n",
    "forecaster = ForecasterAutoreg(\n",
    "                 regressor = HistGradientBoostingRegressor(\n",
    "                                 categorical_features = categorical_features,\n",
    "                                 random_state = 123\n",
    "                             ),\n",
    "                 lags = 24,\n",
    "                 transformer_exog = transformer_exog\n",
    "             )\n",
    "\n",
    "forecaster"
   ]
  },
  {
   "cell_type": "code",
   "execution_count": null,
   "metadata": {},
   "outputs": [],
   "source": [
    "# Grid search of hyperparameters and lags\n",
    "# ==============================================================================\n",
    "# Regressor hyperparameters\n",
    "param_grid = {\n",
    "    'max_iter': [100, 500],\n",
    "    'max_depth': [3, 5, 10],\n",
    "    'learning_rate': [0.01, 0.1]\n",
    "}\n",
    "\n",
    "# Lags used as predictors\n",
    "lags_grid = [48, 72]\n",
    "\n",
    "results_grid = grid_search_forecaster(\n",
    "                   forecaster         = forecaster,\n",
    "                   y                  = data.loc[:end_validation, 'users'],\n",
    "                   exog               = data.loc[:end_validation, exog_features],\n",
    "                   param_grid         = param_grid,\n",
    "                   lags_grid          = lags_grid,\n",
    "                   steps              = 36,\n",
    "                   refit              = False,\n",
    "                   metric             = 'mean_squared_error',\n",
    "                   initial_train_size = len(data.loc[:end_train]),\n",
    "                   fixed_train_size   = False,\n",
    "                   return_best        = True,\n",
    "                   n_jobs             = 'auto',\n",
    "                   verbose            = False\n",
    "               )"
   ]
  },
  {
   "cell_type": "code",
   "execution_count": null,
   "metadata": {},
   "outputs": [],
   "source": [
    "# Backtesting test data\n",
    "# ==============================================================================\n",
    "metric, predictions = backtesting_forecaster(\n",
    "                          forecaster         = forecaster,\n",
    "                          y                  = data['users'],\n",
    "                          exog               = data[exog_features],\n",
    "                          initial_train_size = len(data.loc[:end_validation]),\n",
    "                          fixed_train_size   = False,\n",
    "                          steps              = 36,\n",
    "                          refit              = False,\n",
    "                          metric             = 'mean_squared_error',\n",
    "                          n_jobs             = 'auto',\n",
    "                          verbose            = False\n",
    "                      )\n",
    "\n",
    "print(f\"Backtest error: {metric:.2f}\")"
   ]
  },
  {
   "cell_type": "markdown",
   "metadata": {},
   "source": [
    "### CatBoost\n",
    "\n",
    "\n",
    "Unfortunately, the current version of skforecast is not compatible with CatBoost's built-in treatment of categorical features. The issue arises because CatBoost only accepts categorical features as integers, while skforecast converts input data to floats for faster computation using numpy arrays in the internal prediction process. To work around this limitation, it is necessary to apply either the one-hot encoding or label encoding strategy to the categorical features before using them with CatBoost."
   ]
  },
  {
   "cell_type": "code",
   "execution_count": null,
   "metadata": {},
   "outputs": [],
   "source": [
    "# One hot encoding\n",
    "# ==============================================================================\n",
    "one_hot_encoder = make_column_transformer(\n",
    "                      (\n",
    "                          OneHotEncoder(sparse_output=False, drop='if_binary'),\n",
    "                          make_column_selector(dtype_exclude=np.number),\n",
    "                      ),\n",
    "                      remainder=\"passthrough\",\n",
    "                      verbose_feature_names_out=False,\n",
    "                  ).set_output(transform=\"pandas\")"
   ]
  },
  {
   "cell_type": "code",
   "execution_count": null,
   "metadata": {},
   "outputs": [],
   "source": [
    "# Create forecaster\n",
    "# ==============================================================================\n",
    "forecaster = ForecasterAutoreg(\n",
    "                 regressor        = CatBoostRegressor(\n",
    "                                        random_state=123, \n",
    "                                        silent=True, \n",
    "                                        allow_writing_files=False\n",
    "                                    ),\n",
    "                 lags             = 24,\n",
    "                 transformer_exog = one_hot_encoder\n",
    "             )\n",
    "\n",
    "forecaster"
   ]
  },
  {
   "cell_type": "code",
   "execution_count": 36,
   "metadata": {},
   "outputs": [],
   "source": [
    "# Grid search of hyperparameters and lags\n",
    "# ==============================================================================\n",
    "# Regressor hyperparameters\n",
    "param_grid = {\n",
    "    'n_estimators': [100, 500],\n",
    "    'max_depth': [3, 5, 10],\n",
    "    'learning_rate': [0.01, 0.1]\n",
    "}\n",
    "\n",
    "# Lags used as predictors\n",
    "lags_grid = [48, 72]\n",
    "\n",
    "results_grid = grid_search_forecaster(\n",
    "                   forecaster         = forecaster,\n",
    "                   y                  = data.loc[:end_validation, 'users'],\n",
    "                   exog               = data.loc[:end_validation, exog_features],\n",
    "                   param_grid         = param_grid,\n",
    "                   lags_grid          = lags_grid,\n",
    "                   steps              = 36,\n",
    "                   refit              = False,\n",
    "                   metric             = 'mean_squared_error',\n",
    "                   initial_train_size = len(data.loc[:end_train]),\n",
    "                   fixed_train_size   = False,\n",
    "                   return_best        = True,\n",
    "                    n_jobs            = 'auto',\n",
    "                   verbose            = False\n",
    "               )"
   ]
  },
  {
   "cell_type": "code",
   "execution_count": null,
   "metadata": {},
   "outputs": [],
   "source": [
    "# Backtesting test data\n",
    "# ==============================================================================\n",
    "metric, predictions = backtesting_forecaster(\n",
    "                          forecaster         = forecaster,\n",
    "                          y                  = data['users'],\n",
    "                          exog               = data[exog_features],\n",
    "                          initial_train_size = len(data.loc[:end_validation]),\n",
    "                          fixed_train_size   = False,\n",
    "                          steps              = 36,\n",
    "                          refit              = False,\n",
    "                          metric             = 'mean_squared_error',\n",
    "                          n_jobs             = 'auto',\n",
    "                          verbose            = False\n",
    "                      )\n",
    "\n",
    "print(f\"Backtest error: {metric:.2f}\")"
   ]
  },
  {
   "attachments": {
    "image.png": {
     "image/png": "[encoded data removed]"
    }
   },
   "cell_type": "markdown",
   "metadata": {},
   "source": [
    "![image.png](attachment:image.png)"
   ]
  }
 ],
 "metadata": {
  "kernelspec": {
   "display_name": "Python 3",
   "language": "python",
   "name": "python3"
  },
  "language_info": {
   "codemirror_mode": {
    "name": "ipython",
    "version": 3
   },
   "file_extension": ".py",
   "mimetype": "text/x-python",
   "name": "python",
   "nbconvert_exporter": "python",
   "pygments_lexer": "ipython3",
   "version": "3.8.6"
  },
  "orig_nbformat": 4
 },
 "nbformat": 4,
 "nbformat_minor": 2
}
